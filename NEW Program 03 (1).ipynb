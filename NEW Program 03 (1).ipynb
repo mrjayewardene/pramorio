{
 "cells": [
  {
   "cell_type": "code",
   "execution_count": 51,
   "id": "5429d693",
   "metadata": {},
   "outputs": [
    {
     "ename": "SyntaxError",
     "evalue": "invalid syntax (<ipython-input-51-88a9239831b9>, line 9)",
     "output_type": "error",
     "traceback": [
      "\u001b[1;36m  File \u001b[1;32m\"<ipython-input-51-88a9239831b9>\"\u001b[1;36m, line \u001b[1;32m9\u001b[0m\n\u001b[1;33m    while x != 666:\u001b[0m\n\u001b[1;37m    ^\u001b[0m\n\u001b[1;31mSyntaxError\u001b[0m\u001b[1;31m:\u001b[0m invalid syntax\n"
     ]
    }
   ],
   "source": [
    "def main():\n",
    "    \n",
    "    def introduction():\n",
    "        print('This function will calculate the average value of three integers entered by user, it will end the function if you enter 6, 6, 6') \n",
    "        print('The user is Induranga Jayewardene')\n",
    "    introduction()\n",
    "    \n",
    "    x = int(input('Enter a value to start the loop; Enter 666 to exit')       \n",
    "    while x != 666:\n",
    "        \n",
    "        print('Enter three integer values')\n",
    "        X = int(input('Enter integer one:'))\n",
    "        Y = int(input('Enter integer two:'))\n",
    "        Z = int(input('Enter integer three:'))\n",
    "        numbers.append(X)\n",
    "        numbers.append(Y)\n",
    "        numbers.append(Z)\n",
    "        print(f'The three original integers are: {X}, {Y}, {Z}')\n",
    "\n",
    "        def findaverage():\n",
    "            P = (X+Y+Z)/3 \n",
    "            D = \"{:.3f}\".format(P)\n",
    "            return D\n",
    "        findaverage()\n",
    "\n",
    "        print(f'The average is: {findaverage()}')\n",
    "        D = float(findaverage())\n",
    "\n",
    "        def comparetoavg():\n",
    "            num = 0\n",
    "            if X > D:\n",
    "                print(f'{X} is above the average')\n",
    "            if X < D:\n",
    "                print(f'{X} is below the average')\n",
    "            if X == D:\n",
    "                num+=1\n",
    "                print(f'{X} is equal to average')\n",
    "            if Y > D:\n",
    "                print(f'{Y} is above the average')\n",
    "            if Y < D:\n",
    "                print(f'{Y} is below the average')\n",
    "            if Y == D:\n",
    "                num +=1\n",
    "                print(f'{Y} is equal to average')\n",
    "            if Z > D:\n",
    "                print(f'{Z} is above the average')\n",
    "            if Z < D:\n",
    "                print(f'{Z} is below the average')\n",
    "            if Z == D:\n",
    "                num+=1\n",
    "                print(f'{Z} is equal to average')\n",
    "            print(f'{num} values are equal to the average' + '\\n')\n",
    "        comparetoavg()\n",
    "\n",
    "main()"
   ]
  },
  {
   "cell_type": "code",
   "execution_count": null,
   "id": "38e5c77e",
   "metadata": {},
   "outputs": [],
   "source": []
  }
 ],
 "metadata": {
  "kernelspec": {
   "display_name": "Python 3",
   "language": "python",
   "name": "python3"
  },
  "language_info": {
   "codemirror_mode": {
    "name": "ipython",
    "version": 3
   },
   "file_extension": ".py",
   "mimetype": "text/x-python",
   "name": "python",
   "nbconvert_exporter": "python",
   "pygments_lexer": "ipython3",
   "version": "3.8.8"
  }
 },
 "nbformat": 4,
 "nbformat_minor": 5
}
